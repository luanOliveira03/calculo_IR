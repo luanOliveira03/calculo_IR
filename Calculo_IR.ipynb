{
  "nbformat": 4,
  "nbformat_minor": 0,
  "metadata": {
    "colab": {
      "provenance": [],
      "authorship_tag": "ABX9TyPjz2UFKY9cgop6rjBbG64u",
      "include_colab_link": true
    },
    "kernelspec": {
      "name": "python3",
      "display_name": "Python 3"
    },
    "language_info": {
      "name": "python"
    }
  },
  "cells": [
    {
      "cell_type": "markdown",
      "metadata": {
        "id": "view-in-github",
        "colab_type": "text"
      },
      "source": [
        "<a href=\"https://colab.research.google.com/github/luanOliveira03/calculo_IR/blob/main/Calculo_IR.ipynb\" target=\"_parent\"><img src=\"https://colab.research.google.com/assets/colab-badge.svg\" alt=\"Open In Colab\"/></a>"
      ]
    },
    {
      "cell_type": "code",
      "source": [
        "def calcular_imposto_de_renda(rendimento_anual):\n",
        "\n",
        "  #faixas tabela do IR anual 2023\n",
        "    if rendimento_anual <= 21453.24:\n",
        "        deducao_faixa = 0.00\n",
        "    elif rendimento_anual <= 32151.48:\n",
        "        deducao_faixa = 1608.99\n",
        "    elif rendimento_anual <= 42869.16:\n",
        "        deducao_faixa = 4020.35\n",
        "    elif rendimento_anual <= 53565.72:\n",
        "        deducao_faixa = 7235.54\n",
        "    else:\n",
        "        deducao_faixa = 9113.83\n",
        "\n",
        "  #calcula a base de calculo para o IR (rendimento bruto - deduções)\n",
        "    base_de_calculo = rendimento_anual - deducao_faixa\n",
        "\n",
        "  # verifica a aliquota da base de calculo e faz a multiplicação\n",
        "    if base_de_calculo <= 21453.24:\n",
        "        imposto_a_pagar = base_de_calculo * 0.00\n",
        "    elif base_de_calculo <= 32151.48:\n",
        "        imposto_a_pagar = base_de_calculo * 0.07\n",
        "    elif base_de_calculo <= 42869.16:\n",
        "        imposto_a_pagar = base_de_calculo * 0.15\n",
        "    elif base_de_calculo <= 53565.72:\n",
        "        imposto_a_pagar = base_de_calculo * 0.225\n",
        "    else:\n",
        "        imposto_a_pagar = base_de_calculo * 0.275\n",
        "\n",
        "    return imposto_a_pagar\n",
        "\n",
        "# Solicita o rendimento anual\n",
        "rendimento_anual = float(input(\"Digite o rendimento anual: \"))\n",
        "\n",
        "# Calcula o imposto de renda\n",
        "imposto_a_pagar = calcular_imposto_de_renda(rendimento_anual)\n",
        "\n",
        "print(f\"O valor do Imposto de Renda a ser pago é: R$ {imposto_a_pagar:.2f}\")\n"
      ],
      "metadata": {
        "id": "9uVYd9EQAChI"
      },
      "execution_count": null,
      "outputs": []
    }
  ]
}